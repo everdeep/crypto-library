{
 "cells": [
  {
   "cell_type": "code",
   "execution_count": 1,
   "metadata": {},
   "outputs": [
    {
     "name": "stdout",
     "output_type": "stream",
     "text": [
      "1873.89\n",
      "sandbox: False\n",
      "using stream: True\n",
      "xLNK8OVHg552tLqZsRRPQfD1l6LEkpj02xtrB2tlamLysSyRRJV07kqu9I6sav4V\n"
     ]
    }
   ],
   "source": [
    "import sys\n",
    "sys.path.append('../..')\n",
    "\n",
    "import pandas as pd\n",
    "from cryptolib.config import config\n",
    "from cryptolib.exchange import Binance\n",
    "from cryptolib.enums import Interval\n",
    "from binance.client import Client\n",
    "\n",
    "exchange = Binance(config.BINANCE_API_KEY, config.BINANCE_API_SECRET, streaming=True)\n",
    "\n",
    "# Checking if the values are the same\n",
    "print(exchange.get_last_price('ETHUSDT'))\n",
    "print(\"sandbox:\", exchange.sandbox)\n",
    "print(\"using stream:\", exchange.streaming)\n",
    "print(config.BINANCE_API_KEY)"
   ]
  },
  {
   "attachments": {},
   "cell_type": "markdown",
   "metadata": {},
   "source": [
    "#### Orders"
   ]
  },
  {
   "cell_type": "code",
   "execution_count": 3,
   "metadata": {},
   "outputs": [],
   "source": [
    "info = exchange.get_exchange_info()"
   ]
  },
  {
   "cell_type": "code",
   "execution_count": null,
   "metadata": {},
   "outputs": [],
   "source": [
    "import pandas as pd\n",
    "\n",
    "symbols = pd.DataFrame(info['symbols'])\n",
    "symbols[symbols['symbol'].isin(['BTCUSDT'])].to_dict('records')"
   ]
  },
  {
   "cell_type": "code",
   "execution_count": 12,
   "metadata": {},
   "outputs": [
    {
     "data": {
      "text/plain": [
       "[{'asset': 'BNB', 'free': 1000.0, 'locked': 0.0},\n",
       " {'asset': 'BTC', 'free': 1.000547, 'locked': 0.0},\n",
       " {'asset': 'BUSD', 'free': 10000.0, 'locked': 0.0},\n",
       " {'asset': 'ETH', 'free': 100.0, 'locked': 0.0},\n",
       " {'asset': 'LTC', 'free': 500.0, 'locked': 0.0},\n",
       " {'asset': 'TRX', 'free': 499573.1, 'locked': 0.0},\n",
       " {'asset': 'USDT', 'free': 9967.86419167, 'locked': 0.0},\n",
       " {'asset': 'XRP', 'free': 49907.2, 'locked': 0.0}]"
      ]
     },
     "execution_count": 12,
     "metadata": {},
     "output_type": "execute_result"
    }
   ],
   "source": [
    "exchange.get_balance()"
   ]
  },
  {
   "cell_type": "code",
   "execution_count": null,
   "metadata": {},
   "outputs": [],
   "source": [
    "exchange.get_klines('BTCUSDT', '1m', 10)"
   ]
  },
  {
   "cell_type": "code",
   "execution_count": 19,
   "metadata": {},
   "outputs": [
    {
     "data": {
      "text/plain": [
       "{'symbol': 'XRPUSDT',\n",
       " 'orderId': 1263688,\n",
       " 'orderListId': -1,\n",
       " 'clientOrderId': '06501mFTc4oPyAldU7ndFv',\n",
       " 'transactTime': 1684573650386,\n",
       " 'price': '0.00000000',\n",
       " 'origQty': '4000.00000000',\n",
       " 'executedQty': '4000.00000000',\n",
       " 'cummulativeQuoteQty': '1856.80000000',\n",
       " 'status': 'FILLED',\n",
       " 'timeInForce': 'GTC',\n",
       " 'type': 'MARKET',\n",
       " 'side': 'SELL',\n",
       " 'workingTime': 1684573650386,\n",
       " 'fills': [{'price': '0.46420000',\n",
       "   'qty': '1184.90000000',\n",
       "   'commission': '0.00000000',\n",
       "   'commissionAsset': 'USDT',\n",
       "   'tradeId': 124956},\n",
       "  {'price': '0.46420000',\n",
       "   'qty': '2815.10000000',\n",
       "   'commission': '0.00000000',\n",
       "   'commissionAsset': 'USDT',\n",
       "   'tradeId': 124957}],\n",
       " 'selfTradePreventionMode': 'NONE'}"
      ]
     },
     "execution_count": 19,
     "metadata": {},
     "output_type": "execute_result"
    }
   ],
   "source": [
    "exchange.create_order({\n",
    "    'symbol': 'XRPUSDT',\n",
    "    'side': 'SELL',\n",
    "    'type': 'MARKET',\n",
    "    'cost': '4000.00000000'\n",
    "})"
   ]
  },
  {
   "cell_type": "code",
   "execution_count": 13,
   "metadata": {},
   "outputs": [
    {
     "name": "stdout",
     "output_type": "stream",
     "text": [
      "{'info': {'symbol': 'XRPUSDT', 'orderId': '1262854', 'orderListId': '-1', 'clientOrderId': 'rL6PCK14YuAtvOpLMYJOsO', 'price': '0.00000000', 'origQty': '9969.10000000', 'executedQty': '9969.10000000', 'cummulativeQuoteQty': '4626.04979000', 'status': 'FILLED', 'timeInForce': 'GTC', 'type': 'MARKET', 'side': 'BUY', 'stopPrice': '0.00000000', 'icebergQty': '0.00000000', 'time': '1684572287260', 'updateTime': '1684572287260', 'isWorking': True, 'workingTime': '1684572287260', 'origQuoteOrderQty': '4626.08000000', 'selfTradePreventionMode': 'NONE'}, 'id': '1262854', 'clientOrderId': 'rL6PCK14YuAtvOpLMYJOsO', 'timestamp': 1684572287260, 'datetime': '2023-05-20T08:44:47.260Z', 'lastTradeTimestamp': None, 'symbol': 'XRP/USDT', 'type': 'market', 'timeInForce': 'GTC', 'postOnly': False, 'reduceOnly': None, 'side': 'buy', 'price': 0.46403885907454034, 'triggerPrice': None, 'amount': 9969.1, 'cost': 4626.04979, 'average': 0.46403885907454034, 'filled': 9969.1, 'remaining': 0.0, 'status': 'closed', 'fee': {'currency': None, 'cost': None, 'rate': None}, 'trades': [], 'fees': [{'currency': None, 'cost': None, 'rate': None}], 'stopPrice': None}\n"
     ]
    }
   ],
   "source": [
    "print(exchange.get_order('XRPUSDT', '1262854'))"
   ]
  },
  {
   "cell_type": "code",
   "execution_count": 13,
   "metadata": {},
   "outputs": [
    {
     "name": "stdout",
     "output_type": "stream",
     "text": [
      "{'filterType': 'NOTIONAL', 'minNotional': '10.00000000', 'applyMinToMarket': True, 'maxNotional': '9000000.00000000', 'applyMaxToMarket': False, 'avgPriceMins': 1}\n",
      "{'filterType': 'LOT_SIZE', 'minQty': '0.10000000', 'maxQty': '90000.00000000', 'stepSize': '0.10000000'}\n",
      "{'filterType': 'MARKET_LOT_SIZE', 'minQty': '0.00000000', 'maxQty': '10000.00000000', 'stepSize': '0.00000000'}\n",
      "10000.0\n",
      "10768.899418479432\n",
      "4629.071\n"
     ]
    }
   ],
   "source": [
    "import json\n",
    "print(exchange.symbol_info['XRPUSDT']['NOTIONAL'])\n",
    "print(exchange.symbol_info['XRPUSDT']['LOT_SIZE'])\n",
    "print(exchange.symbol_info['XRPUSDT']['MARKET_LOT_SIZE'])\n",
    "\n",
    "last_price = exchange.get_last_price('XRPUSDT')\n",
    "print(exchange.get_max_order_amount('XRPUSDT'))\n",
    "amount = (5000 / last_price)\n",
    "cost = amount * last_price if amount < exchange.get_max_order_amount('XRPUSDT') else exchange.get_max_order_amount('XRPUSDT') * last_price * 0.997\n",
    "print(amount)\n",
    "print(cost)\n"
   ]
  },
  {
   "cell_type": "markdown",
   "metadata": {},
   "source": [
    "#### Stream Data"
   ]
  },
  {
   "cell_type": "code",
   "execution_count": 2,
   "metadata": {},
   "outputs": [
    {
     "data": {
      "text/html": [
       "<div>\n",
       "<style scoped>\n",
       "    .dataframe tbody tr th:only-of-type {\n",
       "        vertical-align: middle;\n",
       "    }\n",
       "\n",
       "    .dataframe tbody tr th {\n",
       "        vertical-align: top;\n",
       "    }\n",
       "\n",
       "    .dataframe thead th {\n",
       "        text-align: right;\n",
       "    }\n",
       "</style>\n",
       "<table border=\"1\" class=\"dataframe\">\n",
       "  <thead>\n",
       "    <tr style=\"text-align: right;\">\n",
       "      <th></th>\n",
       "      <th>open</th>\n",
       "      <th>high</th>\n",
       "      <th>low</th>\n",
       "      <th>close</th>\n",
       "      <th>volume</th>\n",
       "      <th>close_time</th>\n",
       "      <th>quote_asset_volume</th>\n",
       "      <th>number_of_trades</th>\n",
       "      <th>taker_buy_base_asset_volume</th>\n",
       "      <th>taker_buy_quote_asset_volume</th>\n",
       "      <th>ignore</th>\n",
       "    </tr>\n",
       "    <tr>\n",
       "      <th>time</th>\n",
       "      <th></th>\n",
       "      <th></th>\n",
       "      <th></th>\n",
       "      <th></th>\n",
       "      <th></th>\n",
       "      <th></th>\n",
       "      <th></th>\n",
       "      <th></th>\n",
       "      <th></th>\n",
       "      <th></th>\n",
       "      <th></th>\n",
       "    </tr>\n",
       "  </thead>\n",
       "  <tbody>\n",
       "    <tr>\n",
       "      <th>2023-08-20 13:21:00</th>\n",
       "      <td>26154.01</td>\n",
       "      <td>26168.00</td>\n",
       "      <td>26149.65</td>\n",
       "      <td>26168.00</td>\n",
       "      <td>29.01290</td>\n",
       "      <td>1.692538e+12</td>\n",
       "      <td>7.588666e+05</td>\n",
       "      <td>567.0</td>\n",
       "      <td>19.66674</td>\n",
       "      <td>514440.501723</td>\n",
       "      <td>0.0</td>\n",
       "    </tr>\n",
       "    <tr>\n",
       "      <th>2023-08-20 13:22:00</th>\n",
       "      <td>26167.99</td>\n",
       "      <td>26173.91</td>\n",
       "      <td>26167.99</td>\n",
       "      <td>26170.01</td>\n",
       "      <td>12.03601</td>\n",
       "      <td>1.692538e+12</td>\n",
       "      <td>3.150092e+05</td>\n",
       "      <td>343.0</td>\n",
       "      <td>5.38266</td>\n",
       "      <td>140871.130068</td>\n",
       "      <td>0.0</td>\n",
       "    </tr>\n",
       "    <tr>\n",
       "      <th>2023-08-20 13:23:00</th>\n",
       "      <td>26170.00</td>\n",
       "      <td>26176.34</td>\n",
       "      <td>26170.00</td>\n",
       "      <td>26176.34</td>\n",
       "      <td>7.02602</td>\n",
       "      <td>1.692538e+12</td>\n",
       "      <td>1.838934e+05</td>\n",
       "      <td>314.0</td>\n",
       "      <td>4.90886</td>\n",
       "      <td>128480.259244</td>\n",
       "      <td>0.0</td>\n",
       "    </tr>\n",
       "    <tr>\n",
       "      <th>2023-08-20 13:24:00</th>\n",
       "      <td>26176.34</td>\n",
       "      <td>26176.34</td>\n",
       "      <td>26166.42</td>\n",
       "      <td>26166.43</td>\n",
       "      <td>10.26297</td>\n",
       "      <td>1.692538e+12</td>\n",
       "      <td>2.685730e+05</td>\n",
       "      <td>284.0</td>\n",
       "      <td>1.81047</td>\n",
       "      <td>47374.766485</td>\n",
       "      <td>0.0</td>\n",
       "    </tr>\n",
       "    <tr>\n",
       "      <th>2023-08-20 13:25:00</th>\n",
       "      <td>26166.42</td>\n",
       "      <td>26170.00</td>\n",
       "      <td>26166.42</td>\n",
       "      <td>26168.46</td>\n",
       "      <td>5.77300</td>\n",
       "      <td>1.692538e+12</td>\n",
       "      <td>1.510705e+05</td>\n",
       "      <td>285.0</td>\n",
       "      <td>3.50537</td>\n",
       "      <td>91727.071635</td>\n",
       "      <td>0.0</td>\n",
       "    </tr>\n",
       "    <tr>\n",
       "      <th>...</th>\n",
       "      <td>...</td>\n",
       "      <td>...</td>\n",
       "      <td>...</td>\n",
       "      <td>...</td>\n",
       "      <td>...</td>\n",
       "      <td>...</td>\n",
       "      <td>...</td>\n",
       "      <td>...</td>\n",
       "      <td>...</td>\n",
       "      <td>...</td>\n",
       "      <td>...</td>\n",
       "    </tr>\n",
       "    <tr>\n",
       "      <th>2023-08-20 14:56:00</th>\n",
       "      <td>26088.00</td>\n",
       "      <td>26093.21</td>\n",
       "      <td>26084.50</td>\n",
       "      <td>26091.10</td>\n",
       "      <td>15.67487</td>\n",
       "      <td>1.692543e+12</td>\n",
       "      <td>4.089348e+05</td>\n",
       "      <td>437.0</td>\n",
       "      <td>5.77954</td>\n",
       "      <td>150776.797113</td>\n",
       "      <td>0.0</td>\n",
       "    </tr>\n",
       "    <tr>\n",
       "      <th>2023-08-20 14:57:00</th>\n",
       "      <td>26091.11</td>\n",
       "      <td>26095.13</td>\n",
       "      <td>26090.49</td>\n",
       "      <td>26095.12</td>\n",
       "      <td>8.87611</td>\n",
       "      <td>1.692543e+12</td>\n",
       "      <td>2.315938e+05</td>\n",
       "      <td>389.0</td>\n",
       "      <td>3.02731</td>\n",
       "      <td>78987.130156</td>\n",
       "      <td>0.0</td>\n",
       "    </tr>\n",
       "    <tr>\n",
       "      <th>2023-08-20 14:58:00</th>\n",
       "      <td>26095.13</td>\n",
       "      <td>26100.92</td>\n",
       "      <td>26095.12</td>\n",
       "      <td>26100.92</td>\n",
       "      <td>7.98610</td>\n",
       "      <td>1.692544e+12</td>\n",
       "      <td>2.084072e+05</td>\n",
       "      <td>273.0</td>\n",
       "      <td>7.55587</td>\n",
       "      <td>197179.567806</td>\n",
       "      <td>0.0</td>\n",
       "    </tr>\n",
       "    <tr>\n",
       "      <th>2023-08-20 14:59:00</th>\n",
       "      <td>26100.91</td>\n",
       "      <td>26100.92</td>\n",
       "      <td>26062.86</td>\n",
       "      <td>26062.87</td>\n",
       "      <td>83.60796</td>\n",
       "      <td>1.692544e+12</td>\n",
       "      <td>2.180720e+06</td>\n",
       "      <td>911.0</td>\n",
       "      <td>20.73557</td>\n",
       "      <td>540798.932457</td>\n",
       "      <td>0.0</td>\n",
       "    </tr>\n",
       "    <tr>\n",
       "      <th>2023-08-20 15:00:00</th>\n",
       "      <td>26062.86</td>\n",
       "      <td>26083.19</td>\n",
       "      <td>26062.86</td>\n",
       "      <td>26083.19</td>\n",
       "      <td>47.72912</td>\n",
       "      <td>1.692544e+12</td>\n",
       "      <td>1.244197e+06</td>\n",
       "      <td>644.0</td>\n",
       "      <td>34.60005</td>\n",
       "      <td>901942.239575</td>\n",
       "      <td>0.0</td>\n",
       "    </tr>\n",
       "  </tbody>\n",
       "</table>\n",
       "<p>100 rows × 11 columns</p>\n",
       "</div>"
      ],
      "text/plain": [
       "                         open      high       low     close    volume  \\\n",
       "time                                                                    \n",
       "2023-08-20 13:21:00  26154.01  26168.00  26149.65  26168.00  29.01290   \n",
       "2023-08-20 13:22:00  26167.99  26173.91  26167.99  26170.01  12.03601   \n",
       "2023-08-20 13:23:00  26170.00  26176.34  26170.00  26176.34   7.02602   \n",
       "2023-08-20 13:24:00  26176.34  26176.34  26166.42  26166.43  10.26297   \n",
       "2023-08-20 13:25:00  26166.42  26170.00  26166.42  26168.46   5.77300   \n",
       "...                       ...       ...       ...       ...       ...   \n",
       "2023-08-20 14:56:00  26088.00  26093.21  26084.50  26091.10  15.67487   \n",
       "2023-08-20 14:57:00  26091.11  26095.13  26090.49  26095.12   8.87611   \n",
       "2023-08-20 14:58:00  26095.13  26100.92  26095.12  26100.92   7.98610   \n",
       "2023-08-20 14:59:00  26100.91  26100.92  26062.86  26062.87  83.60796   \n",
       "2023-08-20 15:00:00  26062.86  26083.19  26062.86  26083.19  47.72912   \n",
       "\n",
       "                       close_time  quote_asset_volume  number_of_trades  \\\n",
       "time                                                                      \n",
       "2023-08-20 13:21:00  1.692538e+12        7.588666e+05             567.0   \n",
       "2023-08-20 13:22:00  1.692538e+12        3.150092e+05             343.0   \n",
       "2023-08-20 13:23:00  1.692538e+12        1.838934e+05             314.0   \n",
       "2023-08-20 13:24:00  1.692538e+12        2.685730e+05             284.0   \n",
       "2023-08-20 13:25:00  1.692538e+12        1.510705e+05             285.0   \n",
       "...                           ...                 ...               ...   \n",
       "2023-08-20 14:56:00  1.692543e+12        4.089348e+05             437.0   \n",
       "2023-08-20 14:57:00  1.692543e+12        2.315938e+05             389.0   \n",
       "2023-08-20 14:58:00  1.692544e+12        2.084072e+05             273.0   \n",
       "2023-08-20 14:59:00  1.692544e+12        2.180720e+06             911.0   \n",
       "2023-08-20 15:00:00  1.692544e+12        1.244197e+06             644.0   \n",
       "\n",
       "                     taker_buy_base_asset_volume  \\\n",
       "time                                               \n",
       "2023-08-20 13:21:00                     19.66674   \n",
       "2023-08-20 13:22:00                      5.38266   \n",
       "2023-08-20 13:23:00                      4.90886   \n",
       "2023-08-20 13:24:00                      1.81047   \n",
       "2023-08-20 13:25:00                      3.50537   \n",
       "...                                          ...   \n",
       "2023-08-20 14:56:00                      5.77954   \n",
       "2023-08-20 14:57:00                      3.02731   \n",
       "2023-08-20 14:58:00                      7.55587   \n",
       "2023-08-20 14:59:00                     20.73557   \n",
       "2023-08-20 15:00:00                     34.60005   \n",
       "\n",
       "                     taker_buy_quote_asset_volume  ignore  \n",
       "time                                                       \n",
       "2023-08-20 13:21:00                 514440.501723     0.0  \n",
       "2023-08-20 13:22:00                 140871.130068     0.0  \n",
       "2023-08-20 13:23:00                 128480.259244     0.0  \n",
       "2023-08-20 13:24:00                  47374.766485     0.0  \n",
       "2023-08-20 13:25:00                  91727.071635     0.0  \n",
       "...                                           ...     ...  \n",
       "2023-08-20 14:56:00                 150776.797113     0.0  \n",
       "2023-08-20 14:57:00                  78987.130156     0.0  \n",
       "2023-08-20 14:58:00                 197179.567806     0.0  \n",
       "2023-08-20 14:59:00                 540798.932457     0.0  \n",
       "2023-08-20 15:00:00                 901942.239575     0.0  \n",
       "\n",
       "[100 rows x 11 columns]"
      ]
     },
     "execution_count": 2,
     "metadata": {},
     "output_type": "execute_result"
    }
   ],
   "source": [
    "exchange.get_historical_klines('BTCUSDT', Interval.MINUTE_1.value, 100)"
   ]
  },
  {
   "cell_type": "code",
   "execution_count": 22,
   "metadata": {},
   "outputs": [
    {
     "data": {
      "text/plain": [
       "{'best_bid_price': 26092.82,\n",
       " 'total_traded_quote_asset_volume': 559577954.3683357,\n",
       " 'total_traded_base_asset_volume': 21424.23528,\n",
       " 'open_price': 25960.0,\n",
       " 'trade_before_24h_window': 25960.01,\n",
       " 'low_price': 25957.29,\n",
       " 'best_ask_price': 26092.83,\n",
       " 'last_quantity': 0.0411,\n",
       " 'high_price': 26281.0,\n",
       " 'best_bid_quantity': 23.9506,\n",
       " 'updated_at': '2023-08-20T17:02:26',\n",
       " 'id': 6,\n",
       " 'best_ask_quantity': 2.16962,\n",
       " 'last_price': 26092.82,\n",
       " 'price_change_percent': 0.512,\n",
       " 'weighted_average_price': 26118.92312865,\n",
       " 'symbol': 'BTCUSDT',\n",
       " 'price_change': 132.82,\n",
       " 'total_nr_of_trades': 505227.0}"
      ]
     },
     "execution_count": 22,
     "metadata": {},
     "output_type": "execute_result"
    }
   ],
   "source": [
    "exchange.get_ticker(\"BTCUSDT\")"
   ]
  },
  {
   "cell_type": "code",
   "execution_count": 6,
   "metadata": {},
   "outputs": [
    {
     "data": {
      "text/plain": [
       "29301.42"
      ]
     },
     "execution_count": 6,
     "metadata": {},
     "output_type": "execute_result"
    }
   ],
   "source": [
    "exchange.get_last_price(\"BTCUSDT\")"
   ]
  },
  {
   "cell_type": "code",
   "execution_count": 4,
   "metadata": {},
   "outputs": [
    {
     "data": {
      "text/plain": [
       "{'bids': [[29301.04, 0.16944],\n",
       "  [29301.05, 0.14694],\n",
       "  [29301.26, 0.04471],\n",
       "  [29301.38, 0.00051],\n",
       "  [29301.42, 2.96615]],\n",
       " 'asks': [[29301.43, 18.7756],\n",
       "  [29301.62, 0.8724],\n",
       "  [29301.99, 0.64423],\n",
       "  [29302.0, 0.1531],\n",
       "  [29302.01, 0.02156]]}"
      ]
     },
     "execution_count": 4,
     "metadata": {},
     "output_type": "execute_result"
    }
   ],
   "source": [
    "exchange.get_depth(\"BTCUSDT\")"
   ]
  },
  {
   "cell_type": "code",
   "execution_count": 15,
   "metadata": {},
   "outputs": [
    {
     "data": {
      "text/plain": [
       "0.010000000002037268"
      ]
     },
     "execution_count": 15,
     "metadata": {},
     "output_type": "execute_result"
    }
   ],
   "source": [
    "exchange.get_spread(\"BTCUSDT\")"
   ]
  }
 ],
 "metadata": {
  "kernelspec": {
   "display_name": "Python 3",
   "language": "python",
   "name": "python3"
  },
  "language_info": {
   "codemirror_mode": {
    "name": "ipython",
    "version": 3
   },
   "file_extension": ".py",
   "mimetype": "text/x-python",
   "name": "python",
   "nbconvert_exporter": "python",
   "pygments_lexer": "ipython3",
   "version": "3.9.16"
  },
  "orig_nbformat": 4
 },
 "nbformat": 4,
 "nbformat_minor": 2
}
