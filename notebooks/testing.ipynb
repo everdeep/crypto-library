{
 "cells": [
  {
   "cell_type": "code",
   "execution_count": 1,
   "metadata": {},
   "outputs": [
    {
     "name": "stdout",
     "output_type": "stream",
     "text": [
      "1811.65\n",
      "sandbox: True\n",
      "KA3SYnSVeaDull64B04HZiVtwGH313pTMMwwK7CLhozQNGWVdtntzRuZJ72199BR\n"
     ]
    }
   ],
   "source": [
    "import sys\n",
    "sys.path.append('../..')\n",
    "\n",
    "import pandas as pd\n",
    "from cryptolib.config import config\n",
    "from cryptolib.exchange import Binance\n",
    "from binance.client import Client\n",
    "\n",
    "exchange = Binance(config.BINANCE_API_KEY, config.BINANCE_API_SECRET)\n",
    "\n",
    "# Checking if the values are the same\n",
    "print(exchange.get_last_price('ETHUSDT'))\n",
    "print(\"sandbox:\", exchange.sandbox)\n",
    "print(config.BINANCE_API_KEY)"
   ]
  },
  {
   "attachments": {},
   "cell_type": "markdown",
   "metadata": {},
   "source": [
    "## Orders"
   ]
  },
  {
   "cell_type": "code",
   "execution_count": 3,
   "metadata": {},
   "outputs": [],
   "source": [
    "info = exchange.get_exchange_info()"
   ]
  },
  {
   "cell_type": "code",
   "execution_count": null,
   "metadata": {},
   "outputs": [],
   "source": [
    "import pandas as pd\n",
    "\n",
    "symbols = pd.DataFrame(info['symbols'])\n",
    "symbols[symbols['symbol'].isin(['BTCUSDT'])].to_dict('records')"
   ]
  },
  {
   "cell_type": "code",
   "execution_count": 12,
   "metadata": {},
   "outputs": [
    {
     "data": {
      "text/plain": [
       "[{'asset': 'BNB', 'free': 1000.0, 'locked': 0.0},\n",
       " {'asset': 'BTC', 'free': 1.000547, 'locked': 0.0},\n",
       " {'asset': 'BUSD', 'free': 10000.0, 'locked': 0.0},\n",
       " {'asset': 'ETH', 'free': 100.0, 'locked': 0.0},\n",
       " {'asset': 'LTC', 'free': 500.0, 'locked': 0.0},\n",
       " {'asset': 'TRX', 'free': 499573.1, 'locked': 0.0},\n",
       " {'asset': 'USDT', 'free': 9967.86419167, 'locked': 0.0},\n",
       " {'asset': 'XRP', 'free': 49907.2, 'locked': 0.0}]"
      ]
     },
     "execution_count": 12,
     "metadata": {},
     "output_type": "execute_result"
    }
   ],
   "source": [
    "exchange.get_balance()"
   ]
  },
  {
   "cell_type": "code",
   "execution_count": null,
   "metadata": {},
   "outputs": [],
   "source": [
    "exchange.get_klines('BTCUSDT', '1m', 10)"
   ]
  },
  {
   "cell_type": "code",
   "execution_count": 19,
   "metadata": {},
   "outputs": [
    {
     "data": {
      "text/plain": [
       "{'symbol': 'XRPUSDT',\n",
       " 'orderId': 1263688,\n",
       " 'orderListId': -1,\n",
       " 'clientOrderId': '06501mFTc4oPyAldU7ndFv',\n",
       " 'transactTime': 1684573650386,\n",
       " 'price': '0.00000000',\n",
       " 'origQty': '4000.00000000',\n",
       " 'executedQty': '4000.00000000',\n",
       " 'cummulativeQuoteQty': '1856.80000000',\n",
       " 'status': 'FILLED',\n",
       " 'timeInForce': 'GTC',\n",
       " 'type': 'MARKET',\n",
       " 'side': 'SELL',\n",
       " 'workingTime': 1684573650386,\n",
       " 'fills': [{'price': '0.46420000',\n",
       "   'qty': '1184.90000000',\n",
       "   'commission': '0.00000000',\n",
       "   'commissionAsset': 'USDT',\n",
       "   'tradeId': 124956},\n",
       "  {'price': '0.46420000',\n",
       "   'qty': '2815.10000000',\n",
       "   'commission': '0.00000000',\n",
       "   'commissionAsset': 'USDT',\n",
       "   'tradeId': 124957}],\n",
       " 'selfTradePreventionMode': 'NONE'}"
      ]
     },
     "execution_count": 19,
     "metadata": {},
     "output_type": "execute_result"
    }
   ],
   "source": [
    "exchange.create_order({\n",
    "    'symbol': 'XRPUSDT',\n",
    "    'side': 'SELL',\n",
    "    'type': 'MARKET',\n",
    "    'cost': '4000.00000000'\n",
    "})"
   ]
  },
  {
   "cell_type": "code",
   "execution_count": 13,
   "metadata": {},
   "outputs": [
    {
     "name": "stdout",
     "output_type": "stream",
     "text": [
      "{'info': {'symbol': 'XRPUSDT', 'orderId': '1262854', 'orderListId': '-1', 'clientOrderId': 'rL6PCK14YuAtvOpLMYJOsO', 'price': '0.00000000', 'origQty': '9969.10000000', 'executedQty': '9969.10000000', 'cummulativeQuoteQty': '4626.04979000', 'status': 'FILLED', 'timeInForce': 'GTC', 'type': 'MARKET', 'side': 'BUY', 'stopPrice': '0.00000000', 'icebergQty': '0.00000000', 'time': '1684572287260', 'updateTime': '1684572287260', 'isWorking': True, 'workingTime': '1684572287260', 'origQuoteOrderQty': '4626.08000000', 'selfTradePreventionMode': 'NONE'}, 'id': '1262854', 'clientOrderId': 'rL6PCK14YuAtvOpLMYJOsO', 'timestamp': 1684572287260, 'datetime': '2023-05-20T08:44:47.260Z', 'lastTradeTimestamp': None, 'symbol': 'XRP/USDT', 'type': 'market', 'timeInForce': 'GTC', 'postOnly': False, 'reduceOnly': None, 'side': 'buy', 'price': 0.46403885907454034, 'triggerPrice': None, 'amount': 9969.1, 'cost': 4626.04979, 'average': 0.46403885907454034, 'filled': 9969.1, 'remaining': 0.0, 'status': 'closed', 'fee': {'currency': None, 'cost': None, 'rate': None}, 'trades': [], 'fees': [{'currency': None, 'cost': None, 'rate': None}], 'stopPrice': None}\n"
     ]
    }
   ],
   "source": [
    "print(exchange.get_order('XRPUSDT', '1262854'))"
   ]
  },
  {
   "cell_type": "code",
   "execution_count": 13,
   "metadata": {},
   "outputs": [
    {
     "name": "stdout",
     "output_type": "stream",
     "text": [
      "{'filterType': 'NOTIONAL', 'minNotional': '10.00000000', 'applyMinToMarket': True, 'maxNotional': '9000000.00000000', 'applyMaxToMarket': False, 'avgPriceMins': 1}\n",
      "{'filterType': 'LOT_SIZE', 'minQty': '0.10000000', 'maxQty': '90000.00000000', 'stepSize': '0.10000000'}\n",
      "{'filterType': 'MARKET_LOT_SIZE', 'minQty': '0.00000000', 'maxQty': '10000.00000000', 'stepSize': '0.00000000'}\n",
      "10000.0\n",
      "10768.899418479432\n",
      "4629.071\n"
     ]
    }
   ],
   "source": [
    "import json\n",
    "print(exchange.symbol_info['XRPUSDT']['NOTIONAL'])\n",
    "print(exchange.symbol_info['XRPUSDT']['LOT_SIZE'])\n",
    "print(exchange.symbol_info['XRPUSDT']['MARKET_LOT_SIZE'])\n",
    "\n",
    "last_price = exchange.get_last_price('XRPUSDT')\n",
    "print(exchange.get_max_order_amount('XRPUSDT'))\n",
    "amount = (5000 / last_price)\n",
    "cost = amount * last_price if amount < exchange.get_max_order_amount('XRPUSDT') else exchange.get_max_order_amount('XRPUSDT') * last_price * 0.997\n",
    "print(amount)\n",
    "print(cost)\n"
   ]
  },
  {
   "cell_type": "code",
   "execution_count": 14,
   "metadata": {},
   "outputs": [
    {
     "data": {
      "text/plain": [
       "{'PRICE_FILTER': {'filterType': 'PRICE_FILTER',\n",
       "  'minPrice': '0.00010000',\n",
       "  'maxPrice': '1000.00000000',\n",
       "  'tickSize': '0.00010000'},\n",
       " 'LOT_SIZE': {'filterType': 'LOT_SIZE',\n",
       "  'minQty': '0.10000000',\n",
       "  'maxQty': '90000.00000000',\n",
       "  'stepSize': '0.10000000'},\n",
       " 'ICEBERG_PARTS': {'filterType': 'ICEBERG_PARTS', 'limit': 10},\n",
       " 'MARKET_LOT_SIZE': {'filterType': 'MARKET_LOT_SIZE',\n",
       "  'minQty': '0.00000000',\n",
       "  'maxQty': '10000.00000000',\n",
       "  'stepSize': '0.00000000'},\n",
       " 'TRAILING_DELTA': {'filterType': 'TRAILING_DELTA',\n",
       "  'minTrailingAboveDelta': 10,\n",
       "  'maxTrailingAboveDelta': 2000,\n",
       "  'minTrailingBelowDelta': 10,\n",
       "  'maxTrailingBelowDelta': 2000},\n",
       " 'PERCENT_PRICE_BY_SIDE': {'filterType': 'PERCENT_PRICE_BY_SIDE',\n",
       "  'bidMultiplierUp': '5',\n",
       "  'bidMultiplierDown': '0.2',\n",
       "  'askMultiplierUp': '5',\n",
       "  'askMultiplierDown': '0.2',\n",
       "  'avgPriceMins': 1},\n",
       " 'NOTIONAL': {'filterType': 'NOTIONAL',\n",
       "  'minNotional': '10.00000000',\n",
       "  'applyMinToMarket': True,\n",
       "  'maxNotional': '9000000.00000000',\n",
       "  'applyMaxToMarket': False,\n",
       "  'avgPriceMins': 1},\n",
       " 'MAX_NUM_ORDERS': {'filterType': 'MAX_NUM_ORDERS', 'maxNumOrders': 200},\n",
       " 'MAX_NUM_ALGO_ORDERS': {'filterType': 'MAX_NUM_ALGO_ORDERS',\n",
       "  'maxNumAlgoOrders': 5}}"
      ]
     },
     "execution_count": 14,
     "metadata": {},
     "output_type": "execute_result"
    }
   ],
   "source": [
    "exchange.symbol_info['XRPUSDT']"
   ]
  },
  {
   "attachments": {},
   "cell_type": "markdown",
   "metadata": {},
   "source": [
    "## Websockets"
   ]
  },
  {
   "cell_type": "code",
   "execution_count": null,
   "metadata": {},
   "outputs": [],
   "source": [
    "from unicorn_binance_websocket_api.manager import BinanceWebSocketApiManager\n",
    "\n",
    "\n",
    "def process_new_receives(stream_data):\n",
    "    print(str(stream_data))\n",
    "\n",
    "\n",
    "ubwa = BinanceWebSocketApiManager(exchange=\"binance.com\")\n",
    "ubwa.create_stream(channels=['trade', 'kline_1m'], markets=['btcusdt', 'bnbbtc', 'ethbtc'], \n",
    "                   process_stream_data=process_new_receives)"
   ]
  },
  {
   "cell_type": "code",
   "execution_count": null,
   "metadata": {},
   "outputs": [],
   "source": [
    "ubwa.subscribe_to_stream(stream_id='c461aa945d90-d10c-b3c2-b9a7-2e0de8d6', channels=['kline_1m'], markets=['axsusdt', 'eduusdt'])"
   ]
  },
  {
   "cell_type": "code",
   "execution_count": null,
   "metadata": {},
   "outputs": [],
   "source": [
    "ubwa.unsubscribe_from_stream(stream_id='c461aa945d90-d10c-b3c2-b9a7-2e0de8d6', markets=['btcusdt', 'ethbtc'])"
   ]
  }
 ],
 "metadata": {
  "kernelspec": {
   "display_name": "Python 3",
   "language": "python",
   "name": "python3"
  },
  "language_info": {
   "codemirror_mode": {
    "name": "ipython",
    "version": 3
   },
   "file_extension": ".py",
   "mimetype": "text/x-python",
   "name": "python",
   "nbconvert_exporter": "python",
   "pygments_lexer": "ipython3",
   "version": "3.9.16"
  },
  "orig_nbformat": 4
 },
 "nbformat": 4,
 "nbformat_minor": 2
}
