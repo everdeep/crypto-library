{
 "cells": [
  {
   "cell_type": "markdown",
   "metadata": {},
   "source": [
    "# Stream Testing"
   ]
  },
  {
   "cell_type": "code",
   "execution_count": 1,
   "metadata": {},
   "outputs": [],
   "source": [
    "import sys\n",
    "sys.path.append('../..')\n",
    "\n",
    "from cryptolib.exchange.stream import Stream\n",
    "\n",
    "markets = [\"btcusdt\", \"minausdt\", \"ethusdt\", \"eduusdt\", \"truusdt\", \"axsusdt\"]\n",
    "channels = [\"ticker\", \"depth5\"]\n",
    "stream = Stream(sandbox=False, markets=markets, channels=channels, db_enabled=True)"
   ]
  },
  {
   "cell_type": "markdown",
   "metadata": {},
   "source": [
    "**Start**"
   ]
  },
  {
   "cell_type": "code",
   "execution_count": 2,
   "metadata": {},
   "outputs": [],
   "source": [
    "stream.start()"
   ]
  },
  {
   "cell_type": "markdown",
   "metadata": {},
   "source": [
    "**Stop**"
   ]
  },
  {
   "cell_type": "code",
   "execution_count": 3,
   "metadata": {},
   "outputs": [],
   "source": [
    "stream.stop()"
   ]
  },
  {
   "cell_type": "markdown",
   "metadata": {},
   "source": [
    "### Depth Feed"
   ]
  },
  {
   "cell_type": "code",
   "execution_count": 34,
   "metadata": {},
   "outputs": [
    {
     "data": {
      "text/plain": [
       "{'bids': [[6.18, 800.42],\n",
       "  [6.17, 6066.62],\n",
       "  [6.16, 6294.38],\n",
       "  [6.15, 3655.47],\n",
       "  [6.14, 15033.79]],\n",
       " 'asks': [[6.19, 2865.81],\n",
       "  [6.2, 8232.38],\n",
       "  [6.21, 8454.51],\n",
       "  [6.22, 3701.77],\n",
       "  [6.23, 3792.1]]}"
      ]
     },
     "execution_count": 34,
     "metadata": {},
     "output_type": "execute_result"
    }
   ],
   "source": [
    "stream.stream_data['depth']['AXSUSDT']"
   ]
  },
  {
   "cell_type": "code",
   "execution_count": 3,
   "metadata": {},
   "outputs": [
    {
     "data": {
      "text/plain": [
       "{'bids': [[29302.0, 0.45401],\n",
       "  [29302.04, 0.04751],\n",
       "  [29302.16, 0.00036],\n",
       "  [29302.19, 1.64469],\n",
       "  [29302.2, 13.18065]],\n",
       " 'asks': [[29302.21, 10.73787],\n",
       "  [29302.22, 0.03962],\n",
       "  [29302.35, 0.71197],\n",
       "  [29302.62, 0.00741],\n",
       "  [29302.71, 0.00922]]}"
      ]
     },
     "execution_count": 3,
     "metadata": {},
     "output_type": "execute_result"
    }
   ],
   "source": [
    "stream.get_depth(\"BTCUSDT\")"
   ]
  }
 ],
 "metadata": {
  "kernelspec": {
   "display_name": "Python 3",
   "language": "python",
   "name": "python3"
  },
  "language_info": {
   "codemirror_mode": {
    "name": "ipython",
    "version": 3
   },
   "file_extension": ".py",
   "mimetype": "text/x-python",
   "name": "python",
   "nbconvert_exporter": "python",
   "pygments_lexer": "ipython3",
   "version": "3.9.16"
  },
  "orig_nbformat": 4
 },
 "nbformat": 4,
 "nbformat_minor": 2
}
